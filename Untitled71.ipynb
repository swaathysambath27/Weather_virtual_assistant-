{
  "nbformat": 4,
  "nbformat_minor": 0,
  "metadata": {
    "colab": {
      "name": "Untitled71.ipynb",
      "provenance": []
    },
    "kernelspec": {
      "display_name": "Python 3",
      "name": "python3"
    },
    "language_info": {
      "name": "python"
    }
  },
  "cells": [
    {
      "cell_type": "markdown",
      "metadata": {
        "id": "uzaEml_DzE6K"
      },
      "source": [
        "#### **Weather virtual assistant**\n",
        "\n",
        "---\n",
        "\n"
      ]
    },
    {
      "cell_type": "code",
      "metadata": {
        "colab": {
          "base_uri": "https://localhost:8080/"
        },
        "id": "Z8QFeDViJE-6",
        "outputId": "d268b5f0-86ce-4687-b614-53f1fd7e7d38"
      },
      "source": [
        "!pip install pyowm"
      ],
      "execution_count": 1,
      "outputs": [
        {
          "output_type": "stream",
          "text": [
            "Collecting pyowm\n",
            "\u001b[?25l  Downloading https://files.pythonhosted.org/packages/7b/7d/ed92151b2d1e0f425f18bf4d686bc5530b47e4c853c0a814ff5d8c416259/pyowm-3.2.0-py3-none-any.whl (3.1MB)\n",
            "\u001b[K     |████████████████████████████████| 3.1MB 14.3MB/s \n",
            "\u001b[?25hCollecting geojson<3,>=2.3.0\n",
            "  Downloading https://files.pythonhosted.org/packages/e4/8d/9e28e9af95739e6d2d2f8d4bef0b3432da40b7c3588fbad4298c1be09e48/geojson-2.5.0-py2.py3-none-any.whl\n",
            "Requirement already satisfied: requests<3,>=2.20.0 in /usr/local/lib/python3.7/dist-packages (from pyowm) (2.23.0)\n",
            "Requirement already satisfied: PySocks<2,>=1.7.1 in /usr/local/lib/python3.7/dist-packages (from pyowm) (1.7.1)\n",
            "Requirement already satisfied: urllib3!=1.25.0,!=1.25.1,<1.26,>=1.21.1 in /usr/local/lib/python3.7/dist-packages (from requests<3,>=2.20.0->pyowm) (1.24.3)\n",
            "Requirement already satisfied: certifi>=2017.4.17 in /usr/local/lib/python3.7/dist-packages (from requests<3,>=2.20.0->pyowm) (2021.5.30)\n",
            "Requirement already satisfied: chardet<4,>=3.0.2 in /usr/local/lib/python3.7/dist-packages (from requests<3,>=2.20.0->pyowm) (3.0.4)\n",
            "Requirement already satisfied: idna<3,>=2.5 in /usr/local/lib/python3.7/dist-packages (from requests<3,>=2.20.0->pyowm) (2.10)\n",
            "Installing collected packages: geojson, pyowm\n",
            "Successfully installed geojson-2.5.0 pyowm-3.2.0\n"
          ],
          "name": "stdout"
        }
      ]
    },
    {
      "cell_type": "code",
      "metadata": {
        "id": "NANHCaBlKGZ9"
      },
      "source": [
        "# Importing modules\n",
        "# Helps in pattern matching\n",
        "import re\n",
        "\n",
        "# nltk in this helps in lowercase the words\n",
        "import nltk\n",
        "\n",
        "# strftime helps to convert the date and time in readable format\n",
        "from time import strftime\n",
        "\n",
        "# Helps in importing date and time\n",
        "import datetime\n",
        "\n",
        "# Helps in ambiguous times at the end of daylight saving time\n",
        "import pytz\n",
        "\n",
        "# Library for OpenWeatherMap\n",
        "import pyowm\n",
        "\n",
        "import warnings\n",
        "warnings.filterwarnings('ignore')"
      ],
      "execution_count": 11,
      "outputs": []
    },
    {
      "cell_type": "code",
      "metadata": {
        "id": "t0t71wzELSlW"
      },
      "source": [
        "# Building a list of Keywords\n",
        "lookup_Dict={'greet':{'hello' , 'hi' , 'how do you do' , 'hey', 'hej'},\n",
        "          'search' : {'search', 'define', 'meaning', 'definition', 'what is', 'tell about', 'tell me about'},\n",
        "          'weather' : {'current weather' , 'temperature' , 'weather' , 'sunny' , 'rainy' , 'wind' , \n",
        "                       'windy' , 'snow' , 'conditions' , 'weather condition' , 'atmospheric condition', \n",
        "                       'raining', 'snowy', 'snowing'},\n",
        "          'ok' : {'okay', 'thanks', 'yeah', 'thank you', 'ok', 'answer', 'good' , 'nice'},   \n",
        "          'time' : {'time','clock'}}\n"
      ],
      "execution_count": 12,
      "outputs": []
    },
    {
      "cell_type": "code",
      "metadata": {
        "id": "kuOcRVZ9eDTE"
      },
      "source": [
        "# Welcome the User\n",
        "\n",
        "def welcome():\n",
        "    sweden =  pytz.timezone(\"Europe/Stockholm\")\n",
        "\n",
        "    #Get our local zone time\n",
        "    se_time = datetime.datetime.now(sweden)\n",
        "\n",
        "    #Generating the time in hour, using a 24-hour clock\n",
        "    # 1) 6 - 12 (Morning)\n",
        "    # 2) 12- 16 (Afternoon)\n",
        "    # 3) 16 - 19(EVening) \n",
        "    time = int(se_time.strftime('%H'))\n",
        "    if 6<= time < 12:\n",
        "      print('Good morning!!!')\n",
        "    elif 12 <= time < 16:\n",
        "      print('Good afternoon!!!')\n",
        "    elif 16<= time <19:\n",
        "      print('Good evening!!!')\n",
        "    else:\n",
        "      print('Good night!!!')\n",
        "    print(\"This is Weather Virtual Assistant(Communication) using Openweathermaps API. Welcome and nice to meet you!!!\")\n",
        "    return\n",
        "\n",
        "# Once welcoming the user. Greet and assist the user to the chat box!!\n",
        "def greetFunc():\n",
        "\n",
        "    print(\"Hello!!! I'm your chatbot and I'm here to help you\")\n",
        "    print(\"I'll try to answer your questions regarding Weather\")\n",
        "    print(\"Please enter your question below asking about weather details. If you want to quit, please enter 'quit'\")\n",
        "    return\n",
        "\n",
        "# Generating the weather \n",
        "def getWeather():\n",
        "\n",
        "    # Helps in entering the city name \n",
        "    city = input(\"Please enter the city : \")    \n",
        "\n",
        "    #  Gerated my own free API key for weather\n",
        "    APIKEY=\"8021b029ea5f1780e724706fcf461833\"    \n",
        "\n",
        "    # The API connection is stored in the OWM variable in pyowm library and builtin functions are used to make the code shorter to get the weather of the place\n",
        "    OpenWMap=pyowm.OWM(APIKEY)\n",
        "    mgr = OpenWMap.weather_manager() #The manager object is used to query weather data, including observations, forecasts and so on\n",
        "    observation = mgr.weather_at_place(city) #weather forecast for the specified location\n",
        "\n",
        "    # Details for weather\n",
        "    weather = observation.weather \n",
        "    # Other details can be searched are\n",
        "    # observation.detailed_status        \n",
        "    # observation.wind()               \n",
        "    # observation.humidity                \n",
        "    # observation.temperature('celsius')  \n",
        "    # observation.rain                    \n",
        "    # observation.heat_index           \n",
        "    # observation.clouds  \n",
        "\n",
        "    temp_dict_celsius = weather.temperature('celsius')\n",
        "    status = weather.detailed_status\n",
        "\n",
        "    print('\\nCurrent weather in %s is %s. The temperature is %0.2f degree celcius and it feels like %0.2f degree celcius.\\n' % (city, status, temp_dict_celsius['temp'],temp_dict_celsius['feels_like']))\n",
        "    \n",
        "    # Checks if the API key was valid and returns true if we have valid weather data available. If true then we will get other details of weather like wind/conditions\n",
        "    while (True): \n",
        "      choice = input(\"\\nAny other information regarding the weather like the \\n   1)minimum and maximum temperature\\n   2)wind speed\\n   3)humidity\\nEnter the number to get approriate answer. If you want to return to the main chat room, enter 'return'\\n\")\n",
        "      if(choice == '1'):\n",
        "          print(\"\\nMaximum temperature is %0.2f degree celcius\\n\" %(temp_dict_celsius['temp_max']))\n",
        "          print(\"\\nMinimum temperature is %0.2f degree celcius\\n\" %(temp_dict_celsius['temp_min']))\n",
        "      if(choice == '2'):\n",
        "          print(\"\\nThe speed of the wind is %0.2f meters per sec with %d degrees\\n\" %(observation.weather.wind()['speed'],observation.weather.wind()['deg']))\n",
        "      if(choice == '3'):\n",
        "          print(\"\\nHumidity measured is %d\\n\" %(observation.weather.humidity))\n",
        "      if(choice.lower() == 'return' ):\n",
        "          return"
      ],
      "execution_count": 13,
      "outputs": []
    },
    {
      "cell_type": "code",
      "metadata": {
        "colab": {
          "base_uri": "https://localhost:8080/",
          "height": 1000
        },
        "id": "r8JdgFqBeGNf",
        "outputId": "fdf718ee-39e5-4a4e-b54b-0f72d6385ec3"
      },
      "source": [
        "# 1) Welcome the user\n",
        "welcome()\n",
        "# Program loop\n",
        "# Asks the user for the city  \n",
        "while (True):  \n",
        "    # changes any input string to lowercase sentence\n",
        "    user_input = input().lower()\n",
        "    # If user does'nt want weather they can quit the weather virtual assistant\n",
        "    if user_input == 'quit': \n",
        "        print (\"Thank you for visiting.\")\n",
        "        break    \n",
        "    \n",
        "    matched_intent = None \n",
        "    key='unclear' \n",
        "    for intent,pattern in lookup_Dict.items():\n",
        "        for p in pattern:\n",
        "            if(p in user_input):\n",
        "                key = intent  \n",
        "    # 2) Greeting the user\n",
        "    if(key == 'greet'):\n",
        "        greetFunc()\n",
        "    # 3) Weather forecast\n",
        "    if(key == 'weather'):\n",
        "        getWeather()\n",
        "    if(key == 'ok'):\n",
        "        print('Thank you.. Anything more to help you?')\n",
        "    if(key == 'unclear'):\n",
        "        print('Sorry!! Could you please repeat that?')\n",
        "    "
      ],
      "execution_count": 14,
      "outputs": [
        {
          "output_type": "stream",
          "text": [
            "Good morning!!!\n",
            "This is Weather Virtual Assistant(Communication) using Openweathermaps API. Welcome and nice to meet you!!!\n",
            "Hi\n",
            "Hello!!! I'm your chatbot and I'm here to help you\n",
            "I'll try to answer your questions regarding Weather\n",
            "Please enter your question below asking about weather details. If you want to quit, please enter 'quit'\n",
            "weather\n",
            "Please enter the city : coimbatore\n",
            "\n",
            "Current weather in coimbatore is scattered clouds. The temperature is 30.88 degree celcius and it feels like 33.44 degree celcius.\n",
            "\n",
            "\n",
            "Any other information regarding the weather like the \n",
            "   1)minimum and maximum temperature\n",
            "   2)wind speed\n",
            "   3)humidity\n",
            "Enter the number to get approriate answer. If you want to return to the main chat room, enter 'return'\n",
            "2\n",
            "\n",
            "The speed of the wind is 3.60 meters per sec with 180 degrees\n",
            "\n",
            "\n",
            "Any other information regarding the weather like the \n",
            "   1)minimum and maximum temperature\n",
            "   2)wind speed\n",
            "   3)humidity\n",
            "Enter the number to get approriate answer. If you want to return to the main chat room, enter 'return'\n",
            "1\n",
            "\n",
            "Maximum temperature is 30.88 degree celcius\n",
            "\n",
            "\n",
            "Minimum temperature is 30.88 degree celcius\n",
            "\n"
          ],
          "name": "stdout"
        },
        {
          "output_type": "error",
          "ename": "KeyboardInterrupt",
          "evalue": "ignored",
          "traceback": [
            "\u001b[0;31m---------------------------------------------------------------------------\u001b[0m",
            "\u001b[0;31mKeyboardInterrupt\u001b[0m                         Traceback (most recent call last)",
            "\u001b[0;32m/usr/local/lib/python3.7/dist-packages/ipykernel/kernelbase.py\u001b[0m in \u001b[0;36m_input_request\u001b[0;34m(self, prompt, ident, parent, password)\u001b[0m\n\u001b[1;32m    728\u001b[0m             \u001b[0;32mtry\u001b[0m\u001b[0;34m:\u001b[0m\u001b[0;34m\u001b[0m\u001b[0;34m\u001b[0m\u001b[0m\n\u001b[0;32m--> 729\u001b[0;31m                 \u001b[0mident\u001b[0m\u001b[0;34m,\u001b[0m \u001b[0mreply\u001b[0m \u001b[0;34m=\u001b[0m \u001b[0mself\u001b[0m\u001b[0;34m.\u001b[0m\u001b[0msession\u001b[0m\u001b[0;34m.\u001b[0m\u001b[0mrecv\u001b[0m\u001b[0;34m(\u001b[0m\u001b[0mself\u001b[0m\u001b[0;34m.\u001b[0m\u001b[0mstdin_socket\u001b[0m\u001b[0;34m,\u001b[0m \u001b[0;36m0\u001b[0m\u001b[0;34m)\u001b[0m\u001b[0;34m\u001b[0m\u001b[0;34m\u001b[0m\u001b[0m\n\u001b[0m\u001b[1;32m    730\u001b[0m             \u001b[0;32mexcept\u001b[0m \u001b[0mException\u001b[0m\u001b[0;34m:\u001b[0m\u001b[0;34m\u001b[0m\u001b[0;34m\u001b[0m\u001b[0m\n",
            "\u001b[0;32m/usr/local/lib/python3.7/dist-packages/jupyter_client/session.py\u001b[0m in \u001b[0;36mrecv\u001b[0;34m(self, socket, mode, content, copy)\u001b[0m\n\u001b[1;32m    802\u001b[0m         \u001b[0;32mtry\u001b[0m\u001b[0;34m:\u001b[0m\u001b[0;34m\u001b[0m\u001b[0;34m\u001b[0m\u001b[0m\n\u001b[0;32m--> 803\u001b[0;31m             \u001b[0mmsg_list\u001b[0m \u001b[0;34m=\u001b[0m \u001b[0msocket\u001b[0m\u001b[0;34m.\u001b[0m\u001b[0mrecv_multipart\u001b[0m\u001b[0;34m(\u001b[0m\u001b[0mmode\u001b[0m\u001b[0;34m,\u001b[0m \u001b[0mcopy\u001b[0m\u001b[0;34m=\u001b[0m\u001b[0mcopy\u001b[0m\u001b[0;34m)\u001b[0m\u001b[0;34m\u001b[0m\u001b[0;34m\u001b[0m\u001b[0m\n\u001b[0m\u001b[1;32m    804\u001b[0m         \u001b[0;32mexcept\u001b[0m \u001b[0mzmq\u001b[0m\u001b[0;34m.\u001b[0m\u001b[0mZMQError\u001b[0m \u001b[0;32mas\u001b[0m \u001b[0me\u001b[0m\u001b[0;34m:\u001b[0m\u001b[0;34m\u001b[0m\u001b[0;34m\u001b[0m\u001b[0m\n",
            "\u001b[0;32m/usr/local/lib/python3.7/dist-packages/zmq/sugar/socket.py\u001b[0m in \u001b[0;36mrecv_multipart\u001b[0;34m(self, flags, copy, track)\u001b[0m\n\u001b[1;32m    582\u001b[0m         \"\"\"\n\u001b[0;32m--> 583\u001b[0;31m         \u001b[0mparts\u001b[0m \u001b[0;34m=\u001b[0m \u001b[0;34m[\u001b[0m\u001b[0mself\u001b[0m\u001b[0;34m.\u001b[0m\u001b[0mrecv\u001b[0m\u001b[0;34m(\u001b[0m\u001b[0mflags\u001b[0m\u001b[0;34m,\u001b[0m \u001b[0mcopy\u001b[0m\u001b[0;34m=\u001b[0m\u001b[0mcopy\u001b[0m\u001b[0;34m,\u001b[0m \u001b[0mtrack\u001b[0m\u001b[0;34m=\u001b[0m\u001b[0mtrack\u001b[0m\u001b[0;34m)\u001b[0m\u001b[0;34m]\u001b[0m\u001b[0;34m\u001b[0m\u001b[0;34m\u001b[0m\u001b[0m\n\u001b[0m\u001b[1;32m    584\u001b[0m         \u001b[0;31m# have first part already, only loop while more to receive\u001b[0m\u001b[0;34m\u001b[0m\u001b[0;34m\u001b[0m\u001b[0;34m\u001b[0m\u001b[0m\n",
            "\u001b[0;32mzmq/backend/cython/socket.pyx\u001b[0m in \u001b[0;36mzmq.backend.cython.socket.Socket.recv\u001b[0;34m()\u001b[0m\n",
            "\u001b[0;32mzmq/backend/cython/socket.pyx\u001b[0m in \u001b[0;36mzmq.backend.cython.socket.Socket.recv\u001b[0;34m()\u001b[0m\n",
            "\u001b[0;32mzmq/backend/cython/socket.pyx\u001b[0m in \u001b[0;36mzmq.backend.cython.socket._recv_copy\u001b[0;34m()\u001b[0m\n",
            "\u001b[0;32m/usr/local/lib/python3.7/dist-packages/zmq/backend/cython/checkrc.pxd\u001b[0m in \u001b[0;36mzmq.backend.cython.checkrc._check_rc\u001b[0;34m()\u001b[0m\n",
            "\u001b[0;31mKeyboardInterrupt\u001b[0m: ",
            "\nDuring handling of the above exception, another exception occurred:\n",
            "\u001b[0;31mKeyboardInterrupt\u001b[0m                         Traceback (most recent call last)",
            "\u001b[0;32m<ipython-input-14-2c0ed5926e10>\u001b[0m in \u001b[0;36m<module>\u001b[0;34m()\u001b[0m\n\u001b[1;32m     19\u001b[0m         \u001b[0mgreetFunc\u001b[0m\u001b[0;34m(\u001b[0m\u001b[0;34m)\u001b[0m\u001b[0;34m\u001b[0m\u001b[0;34m\u001b[0m\u001b[0m\n\u001b[1;32m     20\u001b[0m     \u001b[0;32mif\u001b[0m\u001b[0;34m(\u001b[0m\u001b[0mkey\u001b[0m \u001b[0;34m==\u001b[0m \u001b[0;34m'weather'\u001b[0m\u001b[0;34m)\u001b[0m\u001b[0;34m:\u001b[0m\u001b[0;34m\u001b[0m\u001b[0;34m\u001b[0m\u001b[0m\n\u001b[0;32m---> 21\u001b[0;31m         \u001b[0mgetWeather\u001b[0m\u001b[0;34m(\u001b[0m\u001b[0;34m)\u001b[0m\u001b[0;34m\u001b[0m\u001b[0;34m\u001b[0m\u001b[0m\n\u001b[0m\u001b[1;32m     22\u001b[0m     \u001b[0;32mif\u001b[0m\u001b[0;34m(\u001b[0m\u001b[0mkey\u001b[0m \u001b[0;34m==\u001b[0m \u001b[0;34m'ok'\u001b[0m\u001b[0;34m)\u001b[0m\u001b[0;34m:\u001b[0m\u001b[0;34m\u001b[0m\u001b[0;34m\u001b[0m\u001b[0m\n\u001b[1;32m     23\u001b[0m         \u001b[0mprint\u001b[0m\u001b[0;34m(\u001b[0m\u001b[0;34m'Thank you.. Anything more to help you?'\u001b[0m\u001b[0;34m)\u001b[0m\u001b[0;34m\u001b[0m\u001b[0;34m\u001b[0m\u001b[0m\n",
            "\u001b[0;32m<ipython-input-13-68b45c81d8fa>\u001b[0m in \u001b[0;36mgetWeather\u001b[0;34m()\u001b[0m\n\u001b[1;32m     63\u001b[0m     \u001b[0;31m# Checks if the API key was valid and returns true if we have valid weather data available. If true then we will get other details of weather like wind/conditions\u001b[0m\u001b[0;34m\u001b[0m\u001b[0;34m\u001b[0m\u001b[0;34m\u001b[0m\u001b[0m\n\u001b[1;32m     64\u001b[0m     \u001b[0;32mwhile\u001b[0m \u001b[0;34m(\u001b[0m\u001b[0;32mTrue\u001b[0m\u001b[0;34m)\u001b[0m\u001b[0;34m:\u001b[0m\u001b[0;34m\u001b[0m\u001b[0;34m\u001b[0m\u001b[0m\n\u001b[0;32m---> 65\u001b[0;31m       \u001b[0mchoice\u001b[0m \u001b[0;34m=\u001b[0m \u001b[0minput\u001b[0m\u001b[0;34m(\u001b[0m\u001b[0;34m\"\\nAny other information regarding the weather like the \\n   1)minimum and maximum temperature\\n   2)wind speed\\n   3)humidity\\nEnter the number to get approriate answer. If you want to return to the main chat room, enter 'return'\\n\"\u001b[0m\u001b[0;34m)\u001b[0m\u001b[0;34m\u001b[0m\u001b[0;34m\u001b[0m\u001b[0m\n\u001b[0m\u001b[1;32m     66\u001b[0m       \u001b[0;32mif\u001b[0m\u001b[0;34m(\u001b[0m\u001b[0mchoice\u001b[0m \u001b[0;34m==\u001b[0m \u001b[0;34m'1'\u001b[0m\u001b[0;34m)\u001b[0m\u001b[0;34m:\u001b[0m\u001b[0;34m\u001b[0m\u001b[0;34m\u001b[0m\u001b[0m\n\u001b[1;32m     67\u001b[0m           \u001b[0mprint\u001b[0m\u001b[0;34m(\u001b[0m\u001b[0;34m\"\\nMaximum temperature is %0.2f degree celcius\\n\"\u001b[0m \u001b[0;34m%\u001b[0m\u001b[0;34m(\u001b[0m\u001b[0mtemp_dict_celsius\u001b[0m\u001b[0;34m[\u001b[0m\u001b[0;34m'temp_max'\u001b[0m\u001b[0;34m]\u001b[0m\u001b[0;34m)\u001b[0m\u001b[0;34m)\u001b[0m\u001b[0;34m\u001b[0m\u001b[0;34m\u001b[0m\u001b[0m\n",
            "\u001b[0;32m/usr/local/lib/python3.7/dist-packages/ipykernel/kernelbase.py\u001b[0m in \u001b[0;36mraw_input\u001b[0;34m(self, prompt)\u001b[0m\n\u001b[1;32m    702\u001b[0m             \u001b[0mself\u001b[0m\u001b[0;34m.\u001b[0m\u001b[0m_parent_ident\u001b[0m\u001b[0;34m,\u001b[0m\u001b[0;34m\u001b[0m\u001b[0;34m\u001b[0m\u001b[0m\n\u001b[1;32m    703\u001b[0m             \u001b[0mself\u001b[0m\u001b[0;34m.\u001b[0m\u001b[0m_parent_header\u001b[0m\u001b[0;34m,\u001b[0m\u001b[0;34m\u001b[0m\u001b[0;34m\u001b[0m\u001b[0m\n\u001b[0;32m--> 704\u001b[0;31m             \u001b[0mpassword\u001b[0m\u001b[0;34m=\u001b[0m\u001b[0;32mFalse\u001b[0m\u001b[0;34m,\u001b[0m\u001b[0;34m\u001b[0m\u001b[0;34m\u001b[0m\u001b[0m\n\u001b[0m\u001b[1;32m    705\u001b[0m         )\n\u001b[1;32m    706\u001b[0m \u001b[0;34m\u001b[0m\u001b[0m\n",
            "\u001b[0;32m/usr/local/lib/python3.7/dist-packages/ipykernel/kernelbase.py\u001b[0m in \u001b[0;36m_input_request\u001b[0;34m(self, prompt, ident, parent, password)\u001b[0m\n\u001b[1;32m    732\u001b[0m             \u001b[0;32mexcept\u001b[0m \u001b[0mKeyboardInterrupt\u001b[0m\u001b[0;34m:\u001b[0m\u001b[0;34m\u001b[0m\u001b[0;34m\u001b[0m\u001b[0m\n\u001b[1;32m    733\u001b[0m                 \u001b[0;31m# re-raise KeyboardInterrupt, to truncate traceback\u001b[0m\u001b[0;34m\u001b[0m\u001b[0;34m\u001b[0m\u001b[0;34m\u001b[0m\u001b[0m\n\u001b[0;32m--> 734\u001b[0;31m                 \u001b[0;32mraise\u001b[0m \u001b[0mKeyboardInterrupt\u001b[0m\u001b[0;34m\u001b[0m\u001b[0;34m\u001b[0m\u001b[0m\n\u001b[0m\u001b[1;32m    735\u001b[0m             \u001b[0;32melse\u001b[0m\u001b[0;34m:\u001b[0m\u001b[0;34m\u001b[0m\u001b[0;34m\u001b[0m\u001b[0m\n\u001b[1;32m    736\u001b[0m                 \u001b[0;32mbreak\u001b[0m\u001b[0;34m\u001b[0m\u001b[0;34m\u001b[0m\u001b[0m\n",
            "\u001b[0;31mKeyboardInterrupt\u001b[0m: "
          ]
        }
      ]
    },
    {
      "cell_type": "code",
      "metadata": {
        "id": "ZlAE8a_WeWlY"
      },
      "source": [
        ""
      ],
      "execution_count": null,
      "outputs": []
    }
  ]
}