{
  "nbformat": 4,
  "nbformat_minor": 0,
  "metadata": {
    "colab": {
      "name": "weather_virtual_assistant.ipynb",
      "provenance": []
    },
    "kernelspec": {
      "display_name": "Python 3",
      "name": "python3"
    },
    "language_info": {
      "name": "python"
    }
  },
  "cells": [
    {
      "cell_type": "markdown",
      "metadata": {
        "id": "uzaEml_DzE6K"
      },
      "source": [
        "#### **Weather virtual assistant**\n",
        "\n",
        "---\n",
        "\n"
      ]
    },
    {
      "cell_type": "code",
      "metadata": {
        "colab": {
          "base_uri": "https://localhost:8080/"
        },
        "id": "Z8QFeDViJE-6",
        "outputId": "d9805862-8040-4607-e4cc-69552c0d79d6"
      },
      "source": [
        "!pip install pyowm"
      ],
      "execution_count": 15,
      "outputs": [
        {
          "output_type": "stream",
          "text": [
            "Requirement already satisfied: pyowm in /usr/local/lib/python3.7/dist-packages (3.2.0)\n",
            "Requirement already satisfied: requests<3,>=2.20.0 in /usr/local/lib/python3.7/dist-packages (from pyowm) (2.23.0)\n",
            "Requirement already satisfied: PySocks<2,>=1.7.1 in /usr/local/lib/python3.7/dist-packages (from pyowm) (1.7.1)\n",
            "Requirement already satisfied: geojson<3,>=2.3.0 in /usr/local/lib/python3.7/dist-packages (from pyowm) (2.5.0)\n",
            "Requirement already satisfied: urllib3!=1.25.0,!=1.25.1,<1.26,>=1.21.1 in /usr/local/lib/python3.7/dist-packages (from requests<3,>=2.20.0->pyowm) (1.24.3)\n",
            "Requirement already satisfied: certifi>=2017.4.17 in /usr/local/lib/python3.7/dist-packages (from requests<3,>=2.20.0->pyowm) (2021.5.30)\n",
            "Requirement already satisfied: idna<3,>=2.5 in /usr/local/lib/python3.7/dist-packages (from requests<3,>=2.20.0->pyowm) (2.10)\n",
            "Requirement already satisfied: chardet<4,>=3.0.2 in /usr/local/lib/python3.7/dist-packages (from requests<3,>=2.20.0->pyowm) (3.0.4)\n"
          ],
          "name": "stdout"
        }
      ]
    },
    {
      "cell_type": "code",
      "metadata": {
        "id": "NANHCaBlKGZ9"
      },
      "source": [
        "# Importing modules\n",
        "# Helps in pattern matching\n",
        "import re\n",
        "\n",
        "# nltk in this helps in lowercase the words\n",
        "import nltk\n",
        "\n",
        "# strftime helps to convert the date and time in readable format\n",
        "from time import strftime\n",
        "\n",
        "# Helps in importing date and time\n",
        "import datetime\n",
        "\n",
        "# Helps in ambiguous times at the end of daylight saving time\n",
        "import pytz\n",
        "\n",
        "# Library for OpenWeatherMap\n",
        "import pyowm\n",
        "\n",
        "import warnings\n",
        "warnings.filterwarnings('ignore')"
      ],
      "execution_count": 16,
      "outputs": []
    },
    {
      "cell_type": "code",
      "metadata": {
        "id": "t0t71wzELSlW"
      },
      "source": [
        "# Building a list of Keywords\n",
        "lookup_Dict={'greet':{'hello' , 'hi' , 'how do you do' , 'hey', 'hej'},\n",
        "          'search' : {'search', 'define', 'meaning', 'definition', 'what is', 'tell about', 'tell me about'},\n",
        "          'weather' : {'current weather' , 'temperature' , 'weather' , 'sunny' , 'rainy' , 'wind' , \n",
        "                       'windy' , 'snow' , 'conditions' , 'weather condition' , 'atmospheric condition', \n",
        "                       'raining', 'snowy', 'snowing'},\n",
        "          'ok' : {'okay', 'thanks', 'yeah', 'thank you', 'ok', 'answer', 'good' , 'nice'},   \n",
        "          'time' : {'time','clock'}}\n"
      ],
      "execution_count": 17,
      "outputs": []
    },
    {
      "cell_type": "code",
      "metadata": {
        "id": "kuOcRVZ9eDTE"
      },
      "source": [
        "# Welcome the User\n",
        "\n",
        "def welcome():\n",
        "    sweden =  pytz.timezone(\"Europe/Stockholm\")\n",
        "\n",
        "    #Get our local zone time\n",
        "    se_time = datetime.datetime.now(sweden)\n",
        "\n",
        "    #Generating the time in hour, using a 24-hour clock\n",
        "    # 1) 6 - 12 (Morning)\n",
        "    # 2) 12- 16 (Afternoon)\n",
        "    # 3) 16 - 19(EVening) \n",
        "    time = int(se_time.strftime('%H'))\n",
        "    if 6<= time < 12:\n",
        "      print('Good morning!!!')\n",
        "    elif 12 <= time < 16:\n",
        "      print('Good afternoon!!!')\n",
        "    elif 16<= time <19:\n",
        "      print('Good evening!!!')\n",
        "    else:\n",
        "      print('Good night!!!')\n",
        "    print(\"This is Weather Virtual Assistant(Communication) using Openweathermaps API. Welcome and nice to meet you!!!\")\n",
        "    return\n",
        "\n",
        "# Once welcoming the user. Greet and assist the user to the chat box!!\n",
        "def greetFunc():\n",
        "\n",
        "    print(\"Hello!!! I'm your chatbot and I'm here to help you\")\n",
        "    print(\"I'll try to answer your questions regarding Weather\")\n",
        "    print(\"Please enter your question below asking about weather details. If you want to quit, please enter 'quit'\")\n",
        "    return\n",
        "\n",
        "# Generating the weather \n",
        "def getWeather():\n",
        "\n",
        "    # Helps in entering the city name \n",
        "    city = input(\"Please enter the city : \")    \n",
        "\n",
        "    #  Gerated my own free API key for weather\n",
        "    APIKEY=\"8021b029ea5f1780e724706fcf461833\"    \n",
        "\n",
        "    # The API connection is stored in the OWM variable in pyowm library and builtin functions are used to make the code shorter to get the weather of the place\n",
        "    OpenWMap=pyowm.OWM(APIKEY)\n",
        "    mgr = OpenWMap.weather_manager() #The manager object is used to query weather data, including observations, forecasts and so on\n",
        "    observation = mgr.weather_at_place(city) #weather forecast for the specified location\n",
        "\n",
        "    # Details for weather\n",
        "    weather = observation.weather \n",
        "    # Other details can be searched are\n",
        "    # observation.detailed_status        \n",
        "    # observation.wind()               \n",
        "    # observation.humidity                \n",
        "    # observation.temperature('celsius')  \n",
        "    # observation.rain                    \n",
        "    # observation.heat_index           \n",
        "    # observation.clouds  \n",
        "\n",
        "    temp_dict_celsius = weather.temperature('celsius')\n",
        "    status = weather.detailed_status\n",
        "\n",
        "    print('\\nCurrent weather in %s is %s. The temperature is %0.2f degree celcius and it feels like %0.2f degree celcius.\\n' % (city, status, temp_dict_celsius['temp'],temp_dict_celsius['feels_like']))\n",
        "    \n",
        "    # Checks if the API key was valid and returns true if we have valid weather data available. If true then we will get other details of weather like wind/conditions\n",
        "    while (True): \n",
        "      choice = input(\"\\nAny other information regarding the weather like the \\n   1)minimum and maximum temperature\\n   2)wind speed\\n   3)humidity\\nEnter the number to get approriate answer. If you want to return to the main chat room, enter 'return'\\n\")\n",
        "      if(choice == '1'):\n",
        "          print(\"\\nMaximum temperature is %0.2f degree celcius\\n\" %(temp_dict_celsius['temp_max']))\n",
        "          print(\"\\nMinimum temperature is %0.2f degree celcius\\n\" %(temp_dict_celsius['temp_min']))\n",
        "      if(choice == '2'):\n",
        "          print(\"\\nThe speed of the wind is %0.2f meters per sec with %d degrees\\n\" %(observation.weather.wind()['speed'],observation.weather.wind()['deg']))\n",
        "      if(choice == '3'):\n",
        "          print(\"\\nHumidity measured is %d\\n\" %(observation.weather.humidity))\n",
        "      if(choice.lower() == 'return' ):\n",
        "          return"
      ],
      "execution_count": 18,
      "outputs": []
    },
    {
      "cell_type": "code",
      "metadata": {
        "colab": {
          "base_uri": "https://localhost:8080/"
        },
        "id": "r8JdgFqBeGNf",
        "outputId": "47342805-603b-4415-e490-d5a09fdb3200"
      },
      "source": [
        "# 1) Welcome the user\n",
        "welcome()\n",
        "# Program loop\n",
        "# Asks the user for the city  \n",
        "while (True):  \n",
        "    # changes any input string to lowercase sentence\n",
        "    user_input = input().lower()\n",
        "    # If user does'nt want weather they can quit the weather virtual assistant\n",
        "    if user_input == 'quit': \n",
        "        print (\"Thank you for visiting.\")\n",
        "        break    \n",
        "    \n",
        "    matched_intent = None \n",
        "    key='unclear' \n",
        "    for intent,pattern in lookup_Dict.items():\n",
        "        for p in pattern:\n",
        "            if(p in user_input):\n",
        "                key = intent  \n",
        "    # 2) Greeting the user\n",
        "    if(key == 'greet'):\n",
        "        greetFunc()\n",
        "    # 3) Weather forecast\n",
        "    if(key == 'weather'):\n",
        "        getWeather()\n",
        "    if(key == 'ok'):\n",
        "        print('Thank you.. Anything more to help you?')\n",
        "    if(key == 'unclear'):\n",
        "        print('Sorry!! Could you please repeat that?')\n",
        "    "
      ],
      "execution_count": 19,
      "outputs": [
        {
          "output_type": "stream",
          "text": [
            "Good morning!!!\n",
            "This is Weather Virtual Assistant(Communication) using Openweathermaps API. Welcome and nice to meet you!!!\n",
            "Hello\n",
            "Hello!!! I'm your chatbot and I'm here to help you\n",
            "I'll try to answer your questions regarding Weather\n",
            "Please enter your question below asking about weather details. If you want to quit, please enter 'quit'\n",
            "Current weather conditions\n",
            "Please enter the city : Gothenburg\n",
            "\n",
            "Current weather in Gothenburg is scattered clouds. The temperature is 17.93 degree celcius and it feels like 17.79 degree celcius.\n",
            "\n",
            "\n",
            "Any other information regarding the weather like the \n",
            "   1)minimum and maximum temperature\n",
            "   2)wind speed\n",
            "   3)humidity\n",
            "Enter the number to get approriate answer. If you want to return to the main chat room, enter 'return'\n",
            "1\n",
            "\n",
            "Maximum temperature is 19.96 degree celcius\n",
            "\n",
            "\n",
            "Minimum temperature is 17.36 degree celcius\n",
            "\n",
            "\n",
            "Any other information regarding the weather like the \n",
            "   1)minimum and maximum temperature\n",
            "   2)wind speed\n",
            "   3)humidity\n",
            "Enter the number to get approriate answer. If you want to return to the main chat room, enter 'return'\n",
            "2\n",
            "\n",
            "The speed of the wind is 2.57 meters per sec with 310 degrees\n",
            "\n",
            "\n",
            "Any other information regarding the weather like the \n",
            "   1)minimum and maximum temperature\n",
            "   2)wind speed\n",
            "   3)humidity\n",
            "Enter the number to get approriate answer. If you want to return to the main chat room, enter 'return'\n",
            "3\n",
            "\n",
            "Humidity measured is 77\n",
            "\n",
            "\n",
            "Any other information regarding the weather like the \n",
            "   1)minimum and maximum temperature\n",
            "   2)wind speed\n",
            "   3)humidity\n",
            "Enter the number to get approriate answer. If you want to return to the main chat room, enter 'return'\n",
            "Return\n",
            "quit\n",
            "Thank you for visiting.\n"
          ],
          "name": "stdout"
        }
      ]
    },
    {
      "cell_type": "code",
      "metadata": {
        "id": "ZlAE8a_WeWlY"
      },
      "source": [
        ""
      ],
      "execution_count": null,
      "outputs": []
    }
  ]
}